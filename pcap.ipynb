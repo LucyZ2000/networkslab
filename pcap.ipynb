{
 "cells": [
  {
   "cell_type": "code",
   "execution_count": 1,
   "metadata": {},
   "outputs": [],
   "source": [
    "import dpkt\n",
    "import csv\n",
    "import matplotlib.pyplot as plt\n",
    "import socket\n",
    "f = open(\"tcp.pcap\", \"rb\")\n",
    "pcap  =  dpkt.pcap.Reader(f) "
   ]
  },
  {
   "cell_type": "code",
   "execution_count": 2,
   "metadata": {},
   "outputs": [
    {
     "name": "stdout",
     "output_type": "stream",
     "text": [
      "137.22.1.6\n",
      "137.22.1.6\n",
      "10.133.15.138\n",
      "10.133.15.138\n",
      "137.22.1.6\n",
      "137.22.1.6\n",
      "137.22.1.6\n",
      "137.22.1.6\n",
      "137.22.1.6\n",
      "137.22.1.6\n",
      "10.133.15.138\n",
      "10.133.15.138\n",
      "10.133.15.138\n",
      "10.133.15.138\n",
      "10.133.15.138\n",
      "137.22.1.6\n",
      "10.133.15.138\n",
      "137.22.1.6\n",
      "13.227.37.54\n",
      "137.22.1.6\n",
      "13.227.37.54\n",
      "13.227.37.54\n",
      "13.227.37.54\n",
      "13.227.37.54\n",
      "13.227.37.54\n",
      "52.206.68.26\n",
      "10.133.15.138\n",
      "137.22.1.6\n",
      "10.133.15.138\n",
      "10.133.15.138\n",
      "10.133.15.138\n",
      "10.133.15.138\n",
      "13.227.37.54\n",
      "10.133.15.138\n",
      "52.206.68.26\n",
      "52.206.68.26\n",
      "137.22.1.6\n",
      "137.22.1.6\n",
      "13.227.37.54\n",
      "10.133.15.138\n",
      "137.22.1.6\n",
      "137.22.1.6\n",
      "137.22.1.6\n",
      "10.133.15.138\n",
      "137.22.1.6\n",
      "137.22.1.6\n",
      "10.133.15.138\n",
      "10.133.15.138\n",
      "10.133.15.138\n",
      "137.22.1.6\n",
      "137.22.1.6\n",
      "52.206.68.26\n",
      "10.133.15.138\n",
      "10.133.15.138\n",
      "10.133.15.138\n",
      "137.22.1.6\n",
      "10.133.15.138\n",
      "10.133.15.138\n",
      "137.22.1.6\n",
      "10.133.15.138\n",
      "10.133.15.138\n",
      "137.22.1.6\n",
      "10.133.15.138\n",
      "10.133.15.138\n",
      "52.206.68.26\n",
      "10.133.15.138\n",
      "52.206.68.26\n",
      "52.206.68.26\n",
      "52.206.68.26\n",
      "10.133.15.138\n",
      "10.133.15.138\n",
      "10.133.15.138\n",
      "10.133.15.138\n",
      "10.133.15.138\n",
      "52.206.68.26\n",
      "52.206.68.26\n",
      "52.206.68.26\n",
      "10.133.15.138\n",
      "10.133.15.138\n",
      "52.206.68.26\n",
      "52.206.68.26\n"
     ]
    }
   ],
   "source": [
    "rows = []\n",
    "tslist = []\n",
    "acklist = []\n",
    "for ts, buf in pcap: \n",
    "\n",
    "    eth = dpkt.ethernet.Ethernet(buf) \n",
    "\n",
    "# This grabs the layer 3 (IP) object \n",
    "#  ... from inside the Ethernet frame \n",
    "# First we only want to consider IP packets \n",
    "#   ... there are likely some non-IP ethernet frames \n",
    "    \n",
    "    if eth.type == dpkt.ethernet.ETH_TYPE_IP: \n",
    "        ip = eth.data \n",
    "    dst_ip_addr_str = socket.inet_ntoa(ip.dst)\n",
    "    print(dst_ip_addr_str)\n",
    "        \n",
    "# Now we check and see if the protocol inside the IP packet \n",
    "#  ... Is actually TCP \n",
    "                \n",
    "    if ip.p == dpkt.ip.IP_PROTO_TCP and dst_ip_addr_str == \"137.22.1.6\":\n",
    "        tcp = ip.data \n",
    "\n",
    "    rows.append([ts, tcp.ack])\n",
    "    tslist.append(ts)\n",
    "    acklist.append(tcp.ack)\n",
    "        \n",
    "    \n",
    "# Here we can then do something with the  the TCP header"
   ]
  },
  {
   "cell_type": "code",
   "execution_count": 3,
   "metadata": {},
   "outputs": [],
   "source": [
    "fields = ['timestamp', 'acknowledgement']\n",
    "csvfile = \"pcaps.csv\"\n",
    "\n",
    "with open(csvfile, \"w\") as f:\n",
    "    writer = csv.writer(f)\n",
    "    writer.writerow(fields)\n",
    "    writer.writerows(rows)"
   ]
  },
  {
   "cell_type": "code",
   "execution_count": 4,
   "metadata": {},
   "outputs": [
    {
     "data": {
      "image/png": "[encoded data removed]",
      "text/plain": [
       "<Figure size 640x480 with 1 Axes>"
      ]
     },
     "metadata": {},
     "output_type": "display_data"
    }
   ],
   "source": [
    "plt.plot(tslist, acklist, label='Loaded from file!')\n",
    "plt.xlabel('timestamp')\n",
    "plt.ylabel('acknowledgment number')\n",
    "plt.show()"
   ]
  }
 ],
 "metadata": {
  "kernelspec": {
   "display_name": "Python 3",
   "language": "python",
   "name": "python3"
  },
  "language_info": {
   "codemirror_mode": {
    "name": "ipython",
    "version": 3
   },
   "file_extension": ".py",
   "mimetype": "text/x-python",
   "name": "python",
   "nbconvert_exporter": "python",
   "pygments_lexer": "ipython3",
   "version": "3.10.12"
  }
 },
 "nbformat": 4,
 "nbformat_minor": 2
}
